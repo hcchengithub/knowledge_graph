{
 "cells": [
  {
   "cell_type": "markdown",
   "id": "433a8d00-2c19-4b23-904c-a23b6bce0938",
   "metadata": {},
   "source": [
    "# Convert any Corpus of Text into a *Graph of Knowledge*\n",
    "\n",
    "![Knowledge Graph Banner](./assets/KG_banner.png)\n",
    "*A knowledge graph generated using this code* \n",
    "ghpages link of this graph: https://rahulnyk.github.io/knowledge_graph/"
   ]
  },
  {
   "cell_type": "markdown",
   "id": "0f9c9ec7-0d83-4d5d-8651-60cf418edf2d",
   "metadata": {},
   "source": [
    "## What is a knowledge graph?\n",
    "A knowledge graph, also known as a semantic network, represents a network of real-world entities—i.e. objects, events, situations, or concepts—and illustrates the relationship between them. This information is usually stored in a graph database and visualized as a graph structure, prompting the term knowledge “graph.”\n",
    "\n",
    "Source: https://www.ibm.com/topics/knowledge-graph"
   ]
  },
  {
   "cell_type": "markdown",
   "id": "44b6fced-351b-43d0-bfdf-67775f366c01",
   "metadata": {},
   "source": [
    "## How to create a simple knowledge graph from a body of work?\n",
    "1. Clean the text corpus (The body of work).\n",
    "2. Extract concepts and entities from the body of work.\n",
    "3. Extract relations between the entities. \n",
    "4. Convert a graph schema. \n",
    "5. Populate nodes (concepts) and edges (relations).\n",
    "6. Visualise and Query. \n",
    "\n",
    "Step 6 is purely optional, but it has certain artistic gratification associated with it. Network graphs are beautiful objects (just look at the banner image above, isn't it beautiful?). Fortunately, there are a good number of Python libraries available for generating graph visualisations. "
   ]
  },
  {
   "cell_type": "markdown",
   "id": "f0be7aec-5196-4239-a932-0ee850172014",
   "metadata": {},
   "source": [
    "## Why Graph?\n",
    "Once the Knowledge Graph (KG) is build, we can use it for many purposes. We can run graph algorithms and calculate centralities of any node, to understand how important a concept (node) is to this body of work. We can calculate communities to bunch the concepts together to better analyse the text. We can understand the connectedness between seemingly disconnected concepts. \n",
    "\n",
    "The best of all, we can achieve **Graph Retrieval Augmented Generation (GRAG)** and chat with our text in a much more profound way using Graph as a retriever. This is a new and improved version of **Retrieval Augmented Generation (RAG)** where we use a vectory db as a retriever to chat with our documents. "
   ]
  },
  {
   "cell_type": "markdown",
   "id": "9022b1b1-93eb-4c9e-ad83-b3e145ee0940",
   "metadata": {},
   "source": [
    "---"
   ]
  },
  {
   "cell_type": "markdown",
   "id": "0b0cd7de-84c4-42b0-9ed0-fe7baaac6e6f",
   "metadata": {},
   "source": [
    "## This project\n",
    "Here I have created a simple knowledge graph from a PDF document. The process I follow here is very similar to what is outlined in the above sections, with some simplifications."
   ]
  },
  {
   "cell_type": "markdown",
   "id": "0159ebde-986a-4625-8f88-fa27463176a2",
   "metadata": {},
   "source": [
    "First I split the entire text into chunks. Then I extract concepts mentioned within each chunk using an LLM. Note that I am not extracting entities using an NER model here. There is a difference between concepts and entities. For example 'Bangalore' is an entity, and 'Pleasant weather in Bangalore' is a concept. In my experience, concepts make more meaningful KG than entities."
   ]
  },
  {
   "cell_type": "markdown",
   "id": "e3250ba6-3440-4a9a-85a5-e2c7095ae0f3",
   "metadata": {},
   "source": [
    "I assume that the concepts that are mentioned in the vicinity of each other are related. So every edge in the KG is a text chunk in which the two connected concepts are mentioned."
   ]
  },
  {
   "cell_type": "markdown",
   "id": "52fee071-7750-4594-9d88-25bfad4c1fbb",
   "metadata": {},
   "source": [
    "Once the nodes (concepts) and the edges (text chunks) are calculated, It is easy to create a graph out of them using the libraries mentioned here.\n",
    "All the components I used here are set up locally, so this project can be run very easily on a personal machine. I have adopted a no-GPT approach here to keep things economical. I am using the fantastic Mistral 7B openorca instruct, which crushes this use case wonderfully. The model can be set up locally using Ollama so generating the KG is basically free (No calls to GPT)."
   ]
  },
  {
   "cell_type": "markdown",
   "id": "abc97b4e-b313-48a8-8e4a-1bdffab8d099",
   "metadata": {},
   "source": [
    "To generate a graph this the notebook you have to tweak. \n",
    "\n",
    "**[extract_graph.ipynb](https://github.com/rahulnyk/knowledge_graph/blob/main/extract_graph.ipynb)**"
   ]
  },
  {
   "cell_type": "markdown",
   "id": "4582230b-78c9-42b1-9bd7-5f1136b64830",
   "metadata": {},
   "source": [
    "The notebook implements the method outlined in the following flowchart. \n",
    "\n",
    "<img src=\"./assets/Method.png\"/>"
   ]
  },
  {
   "cell_type": "markdown",
   "id": "9ede71f9-3ae5-43a1-b6f8-1605779e4caa",
   "metadata": {},
   "source": [
    "1. Split the corpus of text into chunks. Assign a chunk_id to each of these chunks.\n",
    "2. For every text chunk extract concepts and their semantic relationships using an LLM. Let’s assign this relation a weightage of W1. There can be multiple relationships between the same pair of concepts. Every such relation is an edge between a pair of concepts.\n",
    "3. Consider that the concepts that occur in the same text chunk are also related by their contextual proximity. Let’s assign this relation a weightage of W2. Note that the same pair of concepts may occur in multiple chunks.\n",
    "4. Group similar pairs, sum their weights, and concatenate their relationships. So now we have only one edge between any distinct pair of concepts. The edge has a certain weight and a list of relations as its name."
   ]
  },
  {
   "cell_type": "markdown",
   "id": "02db2ccc-69f3-4e04-9539-b097b973bfc7",
   "metadata": {},
   "source": [
    "Additional it also calculates the Degree of each node, and Communities of nodes, for sizing and coloring the nodes in the graph respectively. "
   ]
  },
  {
   "cell_type": "markdown",
   "id": "132a7de1-1016-4083-90c7-e6b536f5ad99",
   "metadata": {},
   "source": [
    "**[Here is a Medium article explaining the method in detail ](https://medium.com/towards-data-science/how-to-convert-any-text-into-a-graph-of-concepts-110844f22a1a)**"
   ]
  },
  {
   "cell_type": "markdown",
   "id": "62ccb12a-9416-4d53-92bc-b18b78af1b69",
   "metadata": {},
   "source": [
    "---\n",
    "## Tech Stack"
   ]
  },
  {
   "cell_type": "markdown",
   "id": "c8067d2c-077a-48ce-ac91-06918341dc1d",
   "metadata": {},
   "source": [
    "### Mistral 7B\n",
    "<a href=\"https://mistral.ai/news/announcing-mistral-7b/\"><img src=\"https://mistral.ai/images/logo_hubc88c4ece131b91c7cb753f40e9e1cc5_2589_256x0_resize_q97_h2_lanczos_3.webp\" height=50 /></a>\n",
    "\n",
    "I am using the [Mistral 7B Openorca](https://huggingface.co/Open-Orca/Mistral-7B-OpenOrca) for extracting concepts out of text chunks. It can follow the system prompt instructions very well. "
   ]
  },
  {
   "cell_type": "markdown",
   "id": "5eb1db38-39db-424d-b571-75659b5db86d",
   "metadata": {},
   "source": [
    "### Ollama\n",
    "<a href=\"https://ollama.ai\"><img src='https://github.com/jmorganca/ollama/assets/3325447/0d0b44e2-8f4a-4e99-9b52-a5c1c741c8f7 ' height='50'/></a>\n",
    "\n",
    "Ollama makes it easy to host any model locally. Mistral 7B OpenOrca version is already available with Ollama to use out of the box. \n",
    "\n",
    "To set up this project, you must install Ollama on your local machine. \n",
    "\n",
    "Step 1: Install Ollama https://ollama.ai\n",
    "\n",
    "Step 2: run `ollama run zephyr` in your terminal. This will pull the zephyr model to your local machine and start the Ollama server."
   ]
  },
  {
   "cell_type": "markdown",
   "id": "aa23d51e-a407-4854-b90a-6c8a49a4f7bd",
   "metadata": {},
   "source": [
    "### Pandas \n",
    "dataframes for graph schema (can use a graphdb at a later stage)."
   ]
  },
  {
   "cell_type": "markdown",
   "id": "a8769059-46bb-4c46-85f5-0b605d84d9fb",
   "metadata": {},
   "source": [
    "### NetworkX \n",
    "<a href=\"https://networkx.org\"><img src=\"https://networkx.org/_static/networkx_logo.svg\" height=50 /><a/>\n",
    "\n",
    "This is a python library that makes dealing with graphs super easy"
   ]
  },
  {
   "cell_type": "markdown",
   "id": "6cc586fd-18aa-4969-9694-e9ba8a9c30f4",
   "metadata": {},
   "source": [
    "### Pyvis\n",
    "[Pyvis python library](https://github.com/WestHealth/pyvis/tree/master) for visualisation. Pyvis generates Javascript Graph visualisations using python, so the final graphs can be hosted on the web. For example the [github link of this repo](https://rahulnyk.github.io/knowledge_graph/) is a graph generated by pyvis"
   ]
  },
  {
   "cell_type": "markdown",
   "id": "7d819054-d607-40c8-ad50-da512f9705a2",
   "metadata": {},
   "source": [
    "# Looking for contributions\n",
    "This project needs a lot more work. There are some wonderful ideas suggested by folks on medium and here on Github. If this interests you, Please join hands and lets' build this together. Here are a few suggested imrpovements. "
   ]
  },
  {
   "cell_type": "markdown",
   "id": "1bb3e9ba-1fbe-4cc4-9fdd-45c68b829884",
   "metadata": {},
   "source": [
    "### Back End\n",
    "\n",
    "- [ ] Use embeddings to deduplicate semantically similar concepts (**Suggested by William Claude on the [Medium Article](https://medium.com/towards-data-science/how-to-convert-any-text-into-a-graph-of-concepts-110844f22a1a)**)\n",
    "    - [ ] Avoid having similar concepts written differently by the LLM (eg: \"doctor\" and \"doctors\")\n",
    "    - [ ] Reinforce the clustering of strongly similar concepts (eg: \"doctor\" and \"medical practitioner\")?\n",
    "\n",
    "- [ ] Filter out the redundant, or outlier concepts that may not be useful in understanding the text. For example, generic concepts that occur too often in the text. (**Suggested by Luke Chesley**)\n",
    "\n",
    "- [ ] Better implement the concept of contextual proximity to avoide overweighting certain concepts that occur too frequently, or to weed out useless edges. (**Suggested by Luke Chesley**)"
   ]
  },
  {
   "cell_type": "markdown",
   "id": "465dd311-8119-414f-bd90-7bdad2c6f8ac",
   "metadata": {},
   "source": [
    "### Front End\n",
    "- [ ] Create a Frontend for rendering Graph of Concepts in a more useful way. for example here is a flow. (**Suggested by David Garcia on the [Medium Article](https://medium.com/towards-data-science/how-to-convert-any-text-into-a-graph-of-concepts-110844f22a1a)**). \n",
    "    1. Provide a list concept/interest/topics\n",
    "    2. User selects what they're interested in\n",
    "    3. This expands to show sub-topics, sub-concepts, sub-x, etc.\n",
    "    4. This is how you get deep into a specialty"
   ]
  }
 ],
 "metadata": {
  "kernelspec": {
   "display_name": "Python 3 (ipykernel)",
   "language": "python",
   "name": "python3"
  },
  "language_info": {
   "codemirror_mode": {
    "name": "ipython",
    "version": 3
   },
   "file_extension": ".py",
   "mimetype": "text/x-python",
   "name": "python",
   "nbconvert_exporter": "python",
   "pygments_lexer": "ipython3",
   "version": "3.11.6"
  }
 },
 "nbformat": 4,
 "nbformat_minor": 5
}
